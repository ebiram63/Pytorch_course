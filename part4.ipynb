{
  "nbformat": 4,
  "nbformat_minor": 0,
  "metadata": {
    "colab": {
      "provenance": [],
      "authorship_tag": "ABX9TyMXoKWTGMWkJeTQScO1sTjU",
      "include_colab_link": true
    },
    "kernelspec": {
      "name": "python3",
      "display_name": "Python 3"
    },
    "language_info": {
      "name": "python"
    }
  },
  "cells": [
    {
      "cell_type": "markdown",
      "metadata": {
        "id": "view-in-github",
        "colab_type": "text"
      },
      "source": [
        "<a href=\"https://colab.research.google.com/github/ebiram63/Pytorch_course/blob/main/part4.ipynb\" target=\"_parent\"><img src=\"https://colab.research.google.com/assets/colab-badge.svg\" alt=\"Open In Colab\"/></a>"
      ]
    },
    {
      "cell_type": "code",
      "execution_count": 1,
      "metadata": {
        "id": "cXbU7uiK1JvD"
      },
      "outputs": [],
      "source": [
        "import torch"
      ]
    },
    {
      "cell_type": "code",
      "source": [
        "#Gradient descent (نزول گرادیان)"
      ],
      "metadata": {
        "id": "fDKfkxwe20Aj"
      },
      "execution_count": null,
      "outputs": []
    },
    {
      "cell_type": "code",
      "source": [
        "torch.tensor([1, 2, 3, 4, 5], requires_grad=True)"
      ],
      "metadata": {
        "colab": {
          "base_uri": "https://localhost:8080/",
          "height": 144
        },
        "id": "Ua0RU0gf5Q-z",
        "outputId": "ee591789-2716-4fc9-dc3e-daa08e50190f"
      },
      "execution_count": 2,
      "outputs": [
        {
          "output_type": "error",
          "ename": "RuntimeError",
          "evalue": "Only Tensors of floating point and complex dtype can require gradients",
          "traceback": [
            "\u001b[0;31m---------------------------------------------------------------------------\u001b[0m",
            "\u001b[0;31mRuntimeError\u001b[0m                              Traceback (most recent call last)",
            "\u001b[0;32m<ipython-input-2-65735dc09ef8>\u001b[0m in \u001b[0;36m<cell line: 1>\u001b[0;34m()\u001b[0m\n\u001b[0;32m----> 1\u001b[0;31m \u001b[0mtorch\u001b[0m\u001b[0;34m.\u001b[0m\u001b[0mtensor\u001b[0m\u001b[0;34m(\u001b[0m\u001b[0;34m[\u001b[0m\u001b[0;36m1\u001b[0m\u001b[0;34m,\u001b[0m \u001b[0;36m2\u001b[0m\u001b[0;34m,\u001b[0m \u001b[0;36m3\u001b[0m\u001b[0;34m,\u001b[0m \u001b[0;36m4\u001b[0m\u001b[0;34m,\u001b[0m \u001b[0;36m5\u001b[0m\u001b[0;34m]\u001b[0m\u001b[0;34m,\u001b[0m \u001b[0mrequires_grad\u001b[0m\u001b[0;34m=\u001b[0m\u001b[0;32mTrue\u001b[0m\u001b[0;34m)\u001b[0m\u001b[0;34m\u001b[0m\u001b[0;34m\u001b[0m\u001b[0m\n\u001b[0m",
            "\u001b[0;31mRuntimeError\u001b[0m: Only Tensors of floating point and complex dtype can require gradients"
          ]
        }
      ]
    },
    {
      "cell_type": "code",
      "source": [
        "xg = torch.ones(5,2, requires_grad=True)\n",
        "xg"
      ],
      "metadata": {
        "colab": {
          "base_uri": "https://localhost:8080/"
        },
        "id": "Xj5sr3zw6cXq",
        "outputId": "dc406ae3-215e-459d-ad29-6df49fc4d233"
      },
      "execution_count": 3,
      "outputs": [
        {
          "output_type": "execute_result",
          "data": {
            "text/plain": [
              "tensor([[1., 1.],\n",
              "        [1., 1.],\n",
              "        [1., 1.],\n",
              "        [1., 1.],\n",
              "        [1., 1.]], requires_grad=True)"
            ]
          },
          "metadata": {},
          "execution_count": 3
        }
      ]
    },
    {
      "cell_type": "code",
      "source": [
        "xg.requires_grad"
      ],
      "metadata": {
        "colab": {
          "base_uri": "https://localhost:8080/"
        },
        "id": "SX144fln6kzG",
        "outputId": "de50632d-318f-4ef8-bdc7-b862ceeb7f84"
      },
      "execution_count": 4,
      "outputs": [
        {
          "output_type": "execute_result",
          "data": {
            "text/plain": [
              "True"
            ]
          },
          "metadata": {},
          "execution_count": 4
        }
      ]
    },
    {
      "cell_type": "code",
      "source": [
        "layer1 = xg + 2\n",
        "layer1"
      ],
      "metadata": {
        "colab": {
          "base_uri": "https://localhost:8080/"
        },
        "id": "HehXzSzn6wAP",
        "outputId": "5b90fdbc-d019-4fd3-edf2-d54289620279"
      },
      "execution_count": 5,
      "outputs": [
        {
          "output_type": "execute_result",
          "data": {
            "text/plain": [
              "tensor([[3., 3.],\n",
              "        [3., 3.],\n",
              "        [3., 3.],\n",
              "        [3., 3.],\n",
              "        [3., 3.]], grad_fn=<AddBackward0>)"
            ]
          },
          "metadata": {},
          "execution_count": 5
        }
      ]
    },
    {
      "cell_type": "code",
      "source": [
        "layer2 = xg * 2\n",
        "layer2"
      ],
      "metadata": {
        "colab": {
          "base_uri": "https://localhost:8080/"
        },
        "id": "A4smQmRl611b",
        "outputId": "6822929b-aa4e-4ced-9c34-aba9ca5c9194"
      },
      "execution_count": 6,
      "outputs": [
        {
          "output_type": "execute_result",
          "data": {
            "text/plain": [
              "tensor([[2., 2.],\n",
              "        [2., 2.],\n",
              "        [2., 2.],\n",
              "        [2., 2.],\n",
              "        [2., 2.]], grad_fn=<MulBackward0>)"
            ]
          },
          "metadata": {},
          "execution_count": 6
        }
      ]
    },
    {
      "cell_type": "code",
      "source": [
        "layer3 = layer2.mean()\n",
        "layer3"
      ],
      "metadata": {
        "colab": {
          "base_uri": "https://localhost:8080/"
        },
        "id": "bfmlY7oM67tB",
        "outputId": "9dea7569-56b6-45a8-c2a0-3a0addfdf92b"
      },
      "execution_count": 7,
      "outputs": [
        {
          "output_type": "execute_result",
          "data": {
            "text/plain": [
              "tensor(2., grad_fn=<MeanBackward0>)"
            ]
          },
          "metadata": {},
          "execution_count": 7
        }
      ]
    },
    {
      "cell_type": "code",
      "source": [
        "layer2_detach = layer2.detach()\n",
        "layer2_detach.detach()"
      ],
      "metadata": {
        "colab": {
          "base_uri": "https://localhost:8080/"
        },
        "id": "6z9uKnTB7THV",
        "outputId": "2804f4d9-b91c-48c4-b23d-f045c219b916"
      },
      "execution_count": 8,
      "outputs": [
        {
          "output_type": "execute_result",
          "data": {
            "text/plain": [
              "tensor([[2., 2.],\n",
              "        [2., 2.],\n",
              "        [2., 2.],\n",
              "        [2., 2.],\n",
              "        [2., 2.]])"
            ]
          },
          "metadata": {},
          "execution_count": 8
        }
      ]
    },
    {
      "cell_type": "code",
      "source": [
        "layer2_detach.mean()"
      ],
      "metadata": {
        "colab": {
          "base_uri": "https://localhost:8080/"
        },
        "id": "JnqaQ7y67f8M",
        "outputId": "76efe450-91a1-4e57-cf69-149eac9b7de4"
      },
      "execution_count": 9,
      "outputs": [
        {
          "output_type": "execute_result",
          "data": {
            "text/plain": [
              "tensor(2.)"
            ]
          },
          "metadata": {},
          "execution_count": 9
        }
      ]
    },
    {
      "cell_type": "code",
      "source": [
        "#Context-manager that disables gradient calculation"
      ],
      "metadata": {
        "id": "NadUgl6t7kFm"
      },
      "execution_count": null,
      "outputs": []
    },
    {
      "cell_type": "code",
      "source": [
        "x = layer2 * 2\n",
        "print(x)"
      ],
      "metadata": {
        "colab": {
          "base_uri": "https://localhost:8080/"
        },
        "id": "KJVzwrE77s6u",
        "outputId": "ba8b5eeb-29a4-4de1-a5aa-d1b07f9ff314"
      },
      "execution_count": 10,
      "outputs": [
        {
          "output_type": "stream",
          "name": "stdout",
          "text": [
            "tensor([[4., 4.],\n",
            "        [4., 4.],\n",
            "        [4., 4.],\n",
            "        [4., 4.],\n",
            "        [4., 4.]], grad_fn=<MulBackward0>)\n"
          ]
        }
      ]
    },
    {
      "cell_type": "code",
      "source": [
        "print(x.requires_grad)"
      ],
      "metadata": {
        "colab": {
          "base_uri": "https://localhost:8080/"
        },
        "id": "iGJmxgyQLUkL",
        "outputId": "dfada7c7-90b3-4eff-ced1-2a3d55cf6eca"
      },
      "execution_count": 11,
      "outputs": [
        {
          "output_type": "stream",
          "name": "stdout",
          "text": [
            "True\n"
          ]
        }
      ]
    },
    {
      "cell_type": "code",
      "source": [
        "with torch.no_grad():\n",
        "  x = layer2 * 2\n",
        "  print(x)\n",
        "  print(x.requires_grad)"
      ],
      "metadata": {
        "colab": {
          "base_uri": "https://localhost:8080/"
        },
        "id": "2Mlkjh47LaSU",
        "outputId": "7ca727d4-f063-4e75-e72f-4caf4a281539"
      },
      "execution_count": 12,
      "outputs": [
        {
          "output_type": "stream",
          "name": "stdout",
          "text": [
            "tensor([[4., 4.],\n",
            "        [4., 4.],\n",
            "        [4., 4.],\n",
            "        [4., 4.],\n",
            "        [4., 4.]])\n",
            "False\n"
          ]
        }
      ]
    },
    {
      "cell_type": "code",
      "source": [
        "#آموزش یک مدل ساده بدون گرادیان‌ پای تورچ"
      ],
      "metadata": {
        "id": "dsNm7weOLk5m"
      },
      "execution_count": null,
      "outputs": []
    },
    {
      "cell_type": "code",
      "source": [
        "x = torch.tensor([1, 2, 3, 4], dtype=torch.float32)\n",
        "Y = torch.tensor([2, 4, 6, 8], dtype=torch.float32)\n",
        "\n",
        "def forward(x, w):\n",
        "    return w * x\n",
        "\n",
        "def loss(y, y_predicted):\n",
        "    return ((y_predicted - y)**2).mean()\n",
        "\n",
        "def gradient(x, y, y_predicted):\n",
        "    return ((2.0 * x) * (y_predicted - y)).mean()\n",
        "\n",
        "w = 0.0\n",
        "n_iters = 30\n",
        "learning_rate = 0.1\n",
        "\n",
        "for epoch in range(n_iters):\n",
        "    # Forward pass\n",
        "    y_pred = forward(x, w)\n",
        "\n",
        "    # Loss calculation\n",
        "    l = loss(Y, y_pred)\n",
        "\n",
        "    # Gradient calculation\n",
        "    grad = gradient(x, Y, y_pred)\n",
        "\n",
        "    print(f'Epoch: {epoch+1}, Predictions: {y_pred.detach()}, w: {w:.4f}, Grad: {grad.item():.5f}, Loss: {l:.5f}')\n",
        "\n",
        "    # Weight update\n",
        "    w -= learning_rate * grad"
      ],
      "metadata": {
        "colab": {
          "base_uri": "https://localhost:8080/"
        },
        "id": "jG1g2oG9LqBD",
        "outputId": "b297923c-9a01-473a-fa6d-8ae6de1d2882"
      },
      "execution_count": 19,
      "outputs": [
        {
          "output_type": "stream",
          "name": "stdout",
          "text": [
            "Epoch: 1, Predictions: tensor([0., 0., 0., 0.]), w: 0.0000, Grad: -30.00000, Loss: 30.00000\n",
            "Epoch: 2, Predictions: tensor([ 3.,  6.,  9., 12.]), w: 3.0000, Grad: 15.00000, Loss: 7.50000\n",
            "Epoch: 3, Predictions: tensor([1.5000, 3.0000, 4.5000, 6.0000]), w: 1.5000, Grad: -7.50000, Loss: 1.87500\n",
            "Epoch: 4, Predictions: tensor([2.2500, 4.5000, 6.7500, 9.0000]), w: 2.2500, Grad: 3.75000, Loss: 0.46875\n",
            "Epoch: 5, Predictions: tensor([1.8750, 3.7500, 5.6250, 7.5000]), w: 1.8750, Grad: -1.87500, Loss: 0.11719\n",
            "Epoch: 6, Predictions: tensor([2.0625, 4.1250, 6.1875, 8.2500]), w: 2.0625, Grad: 0.93750, Loss: 0.02930\n",
            "Epoch: 7, Predictions: tensor([1.9688, 3.9375, 5.9062, 7.8750]), w: 1.9688, Grad: -0.46875, Loss: 0.00732\n",
            "Epoch: 8, Predictions: tensor([2.0156, 4.0312, 6.0469, 8.0625]), w: 2.0156, Grad: 0.23438, Loss: 0.00183\n",
            "Epoch: 9, Predictions: tensor([1.9922, 3.9844, 5.9766, 7.9688]), w: 1.9922, Grad: -0.11719, Loss: 0.00046\n",
            "Epoch: 10, Predictions: tensor([2.0039, 4.0078, 6.0117, 8.0156]), w: 2.0039, Grad: 0.05859, Loss: 0.00011\n",
            "Epoch: 11, Predictions: tensor([1.9980, 3.9961, 5.9941, 7.9922]), w: 1.9980, Grad: -0.02930, Loss: 0.00003\n",
            "Epoch: 12, Predictions: tensor([2.0010, 4.0020, 6.0029, 8.0039]), w: 2.0010, Grad: 0.01465, Loss: 0.00001\n",
            "Epoch: 13, Predictions: tensor([1.9995, 3.9990, 5.9985, 7.9980]), w: 1.9995, Grad: -0.00732, Loss: 0.00000\n",
            "Epoch: 14, Predictions: tensor([2.0002, 4.0005, 6.0007, 8.0010]), w: 2.0002, Grad: 0.00366, Loss: 0.00000\n",
            "Epoch: 15, Predictions: tensor([1.9999, 3.9998, 5.9996, 7.9995]), w: 1.9999, Grad: -0.00183, Loss: 0.00000\n",
            "Epoch: 16, Predictions: tensor([2.0001, 4.0001, 6.0002, 8.0002]), w: 2.0001, Grad: 0.00092, Loss: 0.00000\n",
            "Epoch: 17, Predictions: tensor([2.0000, 3.9999, 5.9999, 7.9999]), w: 2.0000, Grad: -0.00046, Loss: 0.00000\n",
            "Epoch: 18, Predictions: tensor([2.0000, 4.0000, 6.0000, 8.0001]), w: 2.0000, Grad: 0.00023, Loss: 0.00000\n",
            "Epoch: 19, Predictions: tensor([2.0000, 4.0000, 6.0000, 8.0000]), w: 2.0000, Grad: -0.00011, Loss: 0.00000\n",
            "Epoch: 20, Predictions: tensor([2.0000, 4.0000, 6.0000, 8.0000]), w: 2.0000, Grad: 0.00006, Loss: 0.00000\n",
            "Epoch: 21, Predictions: tensor([2.0000, 4.0000, 6.0000, 8.0000]), w: 2.0000, Grad: -0.00003, Loss: 0.00000\n",
            "Epoch: 22, Predictions: tensor([2.0000, 4.0000, 6.0000, 8.0000]), w: 2.0000, Grad: 0.00001, Loss: 0.00000\n",
            "Epoch: 23, Predictions: tensor([2.0000, 4.0000, 6.0000, 8.0000]), w: 2.0000, Grad: -0.00001, Loss: 0.00000\n",
            "Epoch: 24, Predictions: tensor([2.0000, 4.0000, 6.0000, 8.0000]), w: 2.0000, Grad: 0.00000, Loss: 0.00000\n",
            "Epoch: 25, Predictions: tensor([2.0000, 4.0000, 6.0000, 8.0000]), w: 2.0000, Grad: -0.00000, Loss: 0.00000\n",
            "Epoch: 26, Predictions: tensor([2., 4., 6., 8.]), w: 2.0000, Grad: 0.00000, Loss: 0.00000\n",
            "Epoch: 27, Predictions: tensor([2., 4., 6., 8.]), w: 2.0000, Grad: 0.00000, Loss: 0.00000\n",
            "Epoch: 28, Predictions: tensor([2., 4., 6., 8.]), w: 2.0000, Grad: 0.00000, Loss: 0.00000\n",
            "Epoch: 29, Predictions: tensor([2., 4., 6., 8.]), w: 2.0000, Grad: 0.00000, Loss: 0.00000\n",
            "Epoch: 30, Predictions: tensor([2., 4., 6., 8.]), w: 2.0000, Grad: 0.00000, Loss: 0.00000\n"
          ]
        }
      ]
    }
  ]
}