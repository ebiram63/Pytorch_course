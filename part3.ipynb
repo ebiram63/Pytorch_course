{
  "nbformat": 4,
  "nbformat_minor": 0,
  "metadata": {
    "colab": {
      "provenance": [],
      "authorship_tag": "ABX9TyMU1zeaoVi3VQLgkniQ91t9",
      "include_colab_link": true
    },
    "kernelspec": {
      "name": "python3",
      "display_name": "Python 3"
    },
    "language_info": {
      "name": "python"
    }
  },
  "cells": [
    {
      "cell_type": "markdown",
      "metadata": {
        "id": "view-in-github",
        "colab_type": "text"
      },
      "source": [
        "<a href=\"https://colab.research.google.com/github/ebiram63/Pytorch_course/blob/main/part3.ipynb\" target=\"_parent\"><img src=\"https://colab.research.google.com/assets/colab-badge.svg\" alt=\"Open In Colab\"/></a>"
      ]
    },
    {
      "cell_type": "code",
      "execution_count": null,
      "metadata": {
        "id": "_8Dh_C_PKwtB"
      },
      "outputs": [],
      "source": [
        "#Tensors\n"
      ]
    },
    {
      "cell_type": "code",
      "source": [
        "import torch"
      ],
      "metadata": {
        "id": "6tRqSy8sLWV7"
      },
      "execution_count": null,
      "outputs": []
    },
    {
      "cell_type": "code",
      "source": [
        "data = [[1,2], [3,4], [5,6]]\n",
        "data"
      ],
      "metadata": {
        "colab": {
          "base_uri": "https://localhost:8080/"
        },
        "id": "nMLI0p_oK6TY",
        "outputId": "38ec7b5a-e6cf-4ff0-955e-c9b97c49bf23"
      },
      "execution_count": null,
      "outputs": [
        {
          "output_type": "execute_result",
          "data": {
            "text/plain": [
              "[[1, 2], [3, 4], [5, 6]]"
            ]
          },
          "metadata": {},
          "execution_count": 5
        }
      ]
    },
    {
      "cell_type": "code",
      "source": [
        "torch.tensor(data)"
      ],
      "metadata": {
        "colab": {
          "base_uri": "https://localhost:8080/",
          "height": 144
        },
        "id": "EtRYnPN5LQvV",
        "outputId": "3e1cf523-5631-4e3d-a431-91bf5d8ffb65"
      },
      "execution_count": null,
      "outputs": [
        {
          "output_type": "error",
          "ename": "NameError",
          "evalue": "name 'data' is not defined",
          "traceback": [
            "\u001b[0;31m---------------------------------------------------------------------------\u001b[0m",
            "\u001b[0;31mNameError\u001b[0m                                 Traceback (most recent call last)",
            "\u001b[0;32m<ipython-input-2-a9234a1759c7>\u001b[0m in \u001b[0;36m<cell line: 1>\u001b[0;34m()\u001b[0m\n\u001b[0;32m----> 1\u001b[0;31m \u001b[0mtorch\u001b[0m\u001b[0;34m.\u001b[0m\u001b[0mtensor\u001b[0m\u001b[0;34m(\u001b[0m\u001b[0mdata\u001b[0m\u001b[0;34m)\u001b[0m\u001b[0;34m\u001b[0m\u001b[0;34m\u001b[0m\u001b[0m\n\u001b[0m",
            "\u001b[0;31mNameError\u001b[0m: name 'data' is not defined"
          ]
        }
      ]
    },
    {
      "cell_type": "code",
      "source": [],
      "metadata": {
        "id": "c2iwCYIGzGsT"
      },
      "execution_count": null,
      "outputs": []
    },
    {
      "cell_type": "code",
      "source": [
        "#making a list by numpy"
      ],
      "metadata": {
        "id": "fVArBKuyLmWR"
      },
      "execution_count": null,
      "outputs": []
    },
    {
      "cell_type": "code",
      "source": [
        "import numpy as np\n",
        "np_array = np.array(data)\n",
        "np_array"
      ],
      "metadata": {
        "colab": {
          "base_uri": "https://localhost:8080/"
        },
        "id": "q6sU8Z97Ls1l",
        "outputId": "dd0088fa-a594-44ee-ca76-945586596574"
      },
      "execution_count": null,
      "outputs": [
        {
          "output_type": "execute_result",
          "data": {
            "text/plain": [
              "array([[1, 2],\n",
              "       [3, 4],\n",
              "       [5, 6]])"
            ]
          },
          "metadata": {},
          "execution_count": 7
        }
      ]
    },
    {
      "cell_type": "code",
      "source": [
        "torch.from_numpy(np_array)"
      ],
      "metadata": {
        "colab": {
          "base_uri": "https://localhost:8080/"
        },
        "id": "ev9Uk67aL8cr",
        "outputId": "25ba239e-5c28-41ef-9108-0a3fd0b12729"
      },
      "execution_count": null,
      "outputs": [
        {
          "output_type": "execute_result",
          "data": {
            "text/plain": [
              "tensor([[1, 2],\n",
              "        [3, 4],\n",
              "        [5, 6]])"
            ]
          },
          "metadata": {},
          "execution_count": 8
        }
      ]
    },
    {
      "cell_type": "code",
      "source": [
        "x = torch.zeros(3,3,5, dtype=torch.float16)\n",
        "print(x, x.dtype)"
      ],
      "metadata": {
        "colab": {
          "base_uri": "https://localhost:8080/"
        },
        "id": "0bEQOnUjMJBo",
        "outputId": "a626ce82-3e42-4d58-a4da-a464fe2fe914"
      },
      "execution_count": null,
      "outputs": [
        {
          "output_type": "stream",
          "name": "stdout",
          "text": [
            "tensor([[[0., 0., 0., 0., 0.],\n",
            "         [0., 0., 0., 0., 0.],\n",
            "         [0., 0., 0., 0., 0.]],\n",
            "\n",
            "        [[0., 0., 0., 0., 0.],\n",
            "         [0., 0., 0., 0., 0.],\n",
            "         [0., 0., 0., 0., 0.]],\n",
            "\n",
            "        [[0., 0., 0., 0., 0.],\n",
            "         [0., 0., 0., 0., 0.],\n",
            "         [0., 0., 0., 0., 0.]]], dtype=torch.float16) torch.float16\n"
          ]
        }
      ]
    },
    {
      "cell_type": "code",
      "source": [
        "x = torch.ones(3,3,5)\n",
        "print(x, x.dtype)"
      ],
      "metadata": {
        "colab": {
          "base_uri": "https://localhost:8080/"
        },
        "id": "3mrhkEVrM60A",
        "outputId": "0ef72d0f-84be-412c-b4d0-7b7b058857c9"
      },
      "execution_count": null,
      "outputs": [
        {
          "output_type": "stream",
          "name": "stdout",
          "text": [
            "tensor([[[1., 1., 1., 1., 1.],\n",
            "         [1., 1., 1., 1., 1.],\n",
            "         [1., 1., 1., 1., 1.]],\n",
            "\n",
            "        [[1., 1., 1., 1., 1.],\n",
            "         [1., 1., 1., 1., 1.],\n",
            "         [1., 1., 1., 1., 1.]],\n",
            "\n",
            "        [[1., 1., 1., 1., 1.],\n",
            "         [1., 1., 1., 1., 1.],\n",
            "         [1., 1., 1., 1., 1.]]]) torch.float32\n"
          ]
        }
      ]
    },
    {
      "cell_type": "code",
      "source": [
        "x = torch.rand(3,3,5)\n",
        "print(x, x.dtype)"
      ],
      "metadata": {
        "colab": {
          "base_uri": "https://localhost:8080/"
        },
        "id": "Vn7KTnrsNEYG",
        "outputId": "07f5b238-d076-4cfd-b2a3-18c23d69c73a"
      },
      "execution_count": null,
      "outputs": [
        {
          "output_type": "stream",
          "name": "stdout",
          "text": [
            "tensor([[[0.7453, 0.5350, 0.5328, 0.6365, 0.1540],\n",
            "         [0.9668, 0.4254, 0.4870, 0.4294, 0.0730],\n",
            "         [0.2120, 0.1323, 0.8468, 0.7136, 0.9508]],\n",
            "\n",
            "        [[0.0494, 0.5502, 0.7054, 0.4321, 0.9691],\n",
            "         [0.6791, 0.9651, 0.5399, 0.4909, 0.2394],\n",
            "         [0.4560, 0.7258, 0.3962, 0.2877, 0.9949]],\n",
            "\n",
            "        [[0.5269, 0.3867, 0.9212, 0.9257, 0.3437],\n",
            "         [0.6397, 0.2855, 0.0860, 0.0643, 0.0848],\n",
            "         [0.8712, 0.0485, 0.8262, 0.3261, 0.0680]]]) torch.float32\n"
          ]
        }
      ]
    },
    {
      "cell_type": "code",
      "source": [
        "x[0]"
      ],
      "metadata": {
        "colab": {
          "base_uri": "https://localhost:8080/"
        },
        "id": "oLlinERINOJA",
        "outputId": "a336b676-a966-41bb-d93a-285f76c6a7f1"
      },
      "execution_count": null,
      "outputs": [
        {
          "output_type": "execute_result",
          "data": {
            "text/plain": [
              "tensor([[0.7453, 0.5350, 0.5328, 0.6365, 0.1540],\n",
              "        [0.9668, 0.4254, 0.4870, 0.4294, 0.0730],\n",
              "        [0.2120, 0.1323, 0.8468, 0.7136, 0.9508]])"
            ]
          },
          "metadata": {},
          "execution_count": 13
        }
      ]
    },
    {
      "cell_type": "code",
      "source": [
        "x = torch.tensor([1,2,3,4,5])\n",
        "print(x, x.dtype)"
      ],
      "metadata": {
        "colab": {
          "base_uri": "https://localhost:8080/"
        },
        "id": "24EN16K7NWeI",
        "outputId": "3af0e4bf-a986-424d-eace-5941501eebb2"
      },
      "execution_count": null,
      "outputs": [
        {
          "output_type": "stream",
          "name": "stdout",
          "text": [
            "tensor([1, 2, 3, 4, 5]) torch.int64\n"
          ]
        }
      ]
    },
    {
      "cell_type": "code",
      "source": [
        "y = (2*x)\n",
        "print(y, y.dtype)"
      ],
      "metadata": {
        "colab": {
          "base_uri": "https://localhost:8080/"
        },
        "id": "b5PIMihXNhZl",
        "outputId": "9f2ae980-9ad5-4772-ac0e-22700e130f5f"
      },
      "execution_count": null,
      "outputs": [
        {
          "output_type": "stream",
          "name": "stdout",
          "text": [
            "tensor([ 2,  4,  6,  8, 10]) torch.int64\n"
          ]
        }
      ]
    },
    {
      "cell_type": "code",
      "source": [
        "((0.0 * x) - y)"
      ],
      "metadata": {
        "colab": {
          "base_uri": "https://localhost:8080/"
        },
        "id": "P3Pi-IgYP1G3",
        "outputId": "c07aa723-3d11-45ef-da61-0daf318a6546"
      },
      "execution_count": null,
      "outputs": [
        {
          "output_type": "execute_result",
          "data": {
            "text/plain": [
              "tensor([ -2.,  -4.,  -6.,  -8., -10.])"
            ]
          },
          "metadata": {},
          "execution_count": 18
        }
      ]
    },
    {
      "cell_type": "code",
      "source": [
        "((0.0 * x) - y ).dtype"
      ],
      "metadata": {
        "colab": {
          "base_uri": "https://localhost:8080/"
        },
        "id": "Yt_3JyeMP9Hz",
        "outputId": "10ad5104-0249-4f6a-a1d4-1404e5ba435f"
      },
      "execution_count": null,
      "outputs": [
        {
          "output_type": "execute_result",
          "data": {
            "text/plain": [
              "torch.float32"
            ]
          },
          "metadata": {},
          "execution_count": 19
        }
      ]
    },
    {
      "cell_type": "code",
      "source": [
        "tensor = torch.tensor(data)\n",
        "print(tensor)\n",
        "print(\"-\"*30)\n",
        "print(f\"Shape  : {tensor.shape}\")\n",
        "print(f\"Datatype : {tensor.dtype}\" )\n",
        "print(f\"Device :  {tensor.device}\")"
      ],
      "metadata": {
        "colab": {
          "base_uri": "https://localhost:8080/"
        },
        "id": "oC_51AerQJvS",
        "outputId": "a0f846bd-0841-417d-b254-a838d034c388"
      },
      "execution_count": null,
      "outputs": [
        {
          "output_type": "stream",
          "name": "stdout",
          "text": [
            "tensor([[1, 2],\n",
            "        [3, 4],\n",
            "        [5, 6]])\n",
            "------------------------------\n",
            "Shape  : torch.Size([3, 2])\n",
            "Datatype : torch.int64\n",
            "Device :  cpu\n"
          ]
        }
      ]
    },
    {
      "cell_type": "code",
      "source": [
        "# We move our tensor to the GPU if available\n",
        "if torch.cuda.is_available():\n",
        "  tensor = tensor.to(\"cuda\")"
      ],
      "metadata": {
        "id": "htpqAxGZQ0ep"
      },
      "execution_count": null,
      "outputs": []
    },
    {
      "cell_type": "code",
      "source": [
        "print(tensor.device)"
      ],
      "metadata": {
        "colab": {
          "base_uri": "https://localhost:8080/"
        },
        "id": "E3t4WWSCRQbk",
        "outputId": "2d3dbbea-3040-4935-8d50-ac044937fb4d"
      },
      "execution_count": null,
      "outputs": [
        {
          "output_type": "stream",
          "name": "stdout",
          "text": [
            "cpu\n"
          ]
        }
      ]
    },
    {
      "cell_type": "code",
      "source": [
        "#1- Indexing & Slicing:"
      ],
      "metadata": {
        "id": "5BxrDLNyRZak"
      },
      "execution_count": null,
      "outputs": []
    },
    {
      "cell_type": "code",
      "source": [
        "tensor = torch.rand(4,4)\n",
        "print(tensor)\n"
      ],
      "metadata": {
        "colab": {
          "base_uri": "https://localhost:8080/"
        },
        "id": "X1OYA_lNTDG9",
        "outputId": "8a03c7db-b63e-4640-870a-bc1ddf0cd96b"
      },
      "execution_count": null,
      "outputs": [
        {
          "output_type": "stream",
          "name": "stdout",
          "text": [
            "tensor([[0.7918, 0.3580, 0.4862, 0.8096],\n",
            "        [0.0094, 0.9975, 0.1444, 0.3850],\n",
            "        [0.0077, 0.1187, 0.8902, 0.6507],\n",
            "        [0.0292, 0.8185, 0.1220, 0.2827]])\n"
          ]
        }
      ]
    },
    {
      "cell_type": "code",
      "source": [
        "print(f\"First row : {tensor[0]}\" )"
      ],
      "metadata": {
        "colab": {
          "base_uri": "https://localhost:8080/"
        },
        "id": "BFvNenOBTLLF",
        "outputId": "ed962dcf-b25d-406b-8450-046c9ca64b58"
      },
      "execution_count": null,
      "outputs": [
        {
          "output_type": "stream",
          "name": "stdout",
          "text": [
            "First row : tensor([0.0849, 0.3500, 0.4536, 0.6255])\n"
          ]
        }
      ]
    },
    {
      "cell_type": "code",
      "source": [
        "print(f\"First column: {tensor[ : , 0]}\")"
      ],
      "metadata": {
        "colab": {
          "base_uri": "https://localhost:8080/"
        },
        "id": "4sLv4PkOTWuR",
        "outputId": "b94969f0-f7fe-4275-af70-645ef1269c6b"
      },
      "execution_count": null,
      "outputs": [
        {
          "output_type": "stream",
          "name": "stdout",
          "text": [
            "First column: tensor([0.0849, 0.5608, 0.6948, 0.9260])\n"
          ]
        }
      ]
    },
    {
      "cell_type": "code",
      "source": [
        "print(f\"Last column: {tensor[..., -1]}\")"
      ],
      "metadata": {
        "colab": {
          "base_uri": "https://localhost:8080/"
        },
        "id": "jdWtruniThUa",
        "outputId": "9f025caa-1d0f-48e9-9204-651257319896"
      },
      "execution_count": null,
      "outputs": [
        {
          "output_type": "stream",
          "name": "stdout",
          "text": [
            "Last column: tensor([0.6255, 0.4824, 0.3657, 0.2290])\n"
          ]
        }
      ]
    },
    {
      "cell_type": "code",
      "source": [
        "tensor[:,0] = 0\n",
        "print(tensor)"
      ],
      "metadata": {
        "colab": {
          "base_uri": "https://localhost:8080/"
        },
        "id": "6JLlW2nmTuts",
        "outputId": "acd0ebd4-7df0-45f3-c605-3aa688238ebe"
      },
      "execution_count": null,
      "outputs": [
        {
          "output_type": "stream",
          "name": "stdout",
          "text": [
            "tensor([[0.0000, 0.3580, 0.4862, 0.8096],\n",
            "        [0.0000, 0.9975, 0.1444, 0.3850],\n",
            "        [0.0000, 0.1187, 0.8902, 0.6507],\n",
            "        [0.0000, 0.8185, 0.1220, 0.2827]])\n"
          ]
        }
      ]
    },
    {
      "cell_type": "code",
      "source": [
        "#2- Joining tensors\n",
        "#torch.cat torch.stack\n"
      ],
      "metadata": {
        "id": "UoIfSlI0UHNj"
      },
      "execution_count": null,
      "outputs": []
    },
    {
      "cell_type": "code",
      "source": [
        "tensor = torch.tensor([[1,2],[2,2],[3,3]])\n",
        "print(tensor,tensor.shape)"
      ],
      "metadata": {
        "colab": {
          "base_uri": "https://localhost:8080/"
        },
        "id": "XGuViTG7USO7",
        "outputId": "831f8fd0-a597-49de-d2bd-8868abdfe913"
      },
      "execution_count": null,
      "outputs": [
        {
          "output_type": "stream",
          "name": "stdout",
          "text": [
            "tensor([[1, 2],\n",
            "        [2, 2],\n",
            "        [3, 3]]) torch.Size([3, 2])\n"
          ]
        }
      ]
    },
    {
      "cell_type": "code",
      "source": [
        "t1 = torch.cat([tensor,tensor,tensor], dim=1)\n",
        "print(t1,t1.shape)"
      ],
      "metadata": {
        "colab": {
          "base_uri": "https://localhost:8080/"
        },
        "id": "WX3qY8IRUhKA",
        "outputId": "04f1d610-379c-4bdf-d08e-526cd050c6c6"
      },
      "execution_count": null,
      "outputs": [
        {
          "output_type": "stream",
          "name": "stdout",
          "text": [
            "tensor([[1, 2, 1, 2, 1, 2],\n",
            "        [2, 2, 2, 2, 2, 2],\n",
            "        [3, 3, 3, 3, 3, 3]]) torch.Size([3, 6])\n"
          ]
        }
      ]
    },
    {
      "cell_type": "code",
      "source": [
        "t1 = torch.cat([tensor,tensor,tensor] , dim=0)\n",
        "print(t1,t1.shape)"
      ],
      "metadata": {
        "colab": {
          "base_uri": "https://localhost:8080/"
        },
        "id": "3GWSmXTcUupo",
        "outputId": "6c6d02a8-acdb-42e4-d00a-c28ca2bd1395"
      },
      "execution_count": null,
      "outputs": [
        {
          "output_type": "stream",
          "name": "stdout",
          "text": [
            "tensor([[1, 2],\n",
            "        [2, 2],\n",
            "        [3, 3],\n",
            "        [1, 2],\n",
            "        [2, 2],\n",
            "        [3, 3],\n",
            "        [1, 2],\n",
            "        [2, 2],\n",
            "        [3, 3]]) torch.Size([9, 2])\n"
          ]
        }
      ]
    },
    {
      "cell_type": "code",
      "source": [
        "t1 = torch.stack([tensor,tensor,tensor])\n",
        "print(t1,t1.shape)"
      ],
      "metadata": {
        "colab": {
          "base_uri": "https://localhost:8080/"
        },
        "id": "7ibWnvuOVK0O",
        "outputId": "3128c98d-3f56-4cfb-8931-1bda3cc2bb76"
      },
      "execution_count": null,
      "outputs": [
        {
          "output_type": "stream",
          "name": "stdout",
          "text": [
            "tensor([[[1, 2],\n",
            "         [2, 2],\n",
            "         [3, 3]],\n",
            "\n",
            "        [[1, 2],\n",
            "         [2, 2],\n",
            "         [3, 3]],\n",
            "\n",
            "        [[1, 2],\n",
            "         [2, 2],\n",
            "         [3, 3]]]) torch.Size([3, 3, 2])\n"
          ]
        }
      ]
    },
    {
      "cell_type": "code",
      "source": [
        "#3- Matrix Operations\n",
        "#Transpose of a tensor -----> tensor.T\n",
        "#matrix multiplication -----> tensor.matmul( tensor2 )\n",
        "#matrix multiplication -----> tensor @ tensor2"
      ],
      "metadata": {
        "id": "i4r8csLIVWNw"
      },
      "execution_count": null,
      "outputs": []
    },
    {
      "cell_type": "code",
      "source": [
        "tensor = torch.Tensor([[1,1],[2,2],[3,3]])\n",
        "tensor"
      ],
      "metadata": {
        "colab": {
          "base_uri": "https://localhost:8080/"
        },
        "id": "-idyxyHZzHux",
        "outputId": "9341c18f-24e0-4c5a-e75e-b63f9cddcc99"
      },
      "execution_count": null,
      "outputs": [
        {
          "output_type": "execute_result",
          "data": {
            "text/plain": [
              "tensor([[1., 1.],\n",
              "        [2., 2.],\n",
              "        [3., 3.]])"
            ]
          },
          "metadata": {},
          "execution_count": 3
        }
      ]
    },
    {
      "cell_type": "code",
      "source": [
        "tensor.T"
      ],
      "metadata": {
        "colab": {
          "base_uri": "https://localhost:8080/"
        },
        "id": "tgvGYSNazgFV",
        "outputId": "d6e6c51c-1dc2-40ee-8996-d1a78dbe9fd7"
      },
      "execution_count": null,
      "outputs": [
        {
          "output_type": "execute_result",
          "data": {
            "text/plain": [
              "tensor([[1., 2., 3.],\n",
              "        [1., 2., 3.]])"
            ]
          },
          "metadata": {},
          "execution_count": 4
        }
      ]
    },
    {
      "cell_type": "code",
      "source": [
        "tensor.T @ tensor"
      ],
      "metadata": {
        "colab": {
          "base_uri": "https://localhost:8080/"
        },
        "id": "yCsnuMBwzjU6",
        "outputId": "17b7638a-0521-44c0-8192-90419da3309f"
      },
      "execution_count": null,
      "outputs": [
        {
          "output_type": "execute_result",
          "data": {
            "text/plain": [
              "tensor([[14., 14.],\n",
              "        [14., 14.]])"
            ]
          },
          "metadata": {},
          "execution_count": 5
        }
      ]
    },
    {
      "cell_type": "code",
      "source": [
        "(tensor.T).matmul(tensor)"
      ],
      "metadata": {
        "colab": {
          "base_uri": "https://localhost:8080/"
        },
        "id": "tp6RRCk6zoV5",
        "outputId": "9081c3dd-1d3d-4d08-cdd1-cb445171a727"
      },
      "execution_count": null,
      "outputs": [
        {
          "output_type": "execute_result",
          "data": {
            "text/plain": [
              "tensor([[14., 14.],\n",
              "        [14., 14.]])"
            ]
          },
          "metadata": {},
          "execution_count": 6
        }
      ]
    },
    {
      "cell_type": "code",
      "source": [
        "tensor"
      ],
      "metadata": {
        "colab": {
          "base_uri": "https://localhost:8080/"
        },
        "id": "LdUyXIbMz07k",
        "outputId": "192dd4a5-352b-46dd-b324-60668a457ef0"
      },
      "execution_count": null,
      "outputs": [
        {
          "output_type": "execute_result",
          "data": {
            "text/plain": [
              "tensor([[1., 1.],\n",
              "        [2., 2.],\n",
              "        [3., 3.]])"
            ]
          },
          "metadata": {},
          "execution_count": 7
        }
      ]
    },
    {
      "cell_type": "code",
      "source": [
        "tensor * tensor"
      ],
      "metadata": {
        "colab": {
          "base_uri": "https://localhost:8080/"
        },
        "id": "sOTghiKUz3nU",
        "outputId": "37b0ba80-43dd-4704-c85c-b924f2023df7"
      },
      "execution_count": null,
      "outputs": [
        {
          "output_type": "execute_result",
          "data": {
            "text/plain": [
              "tensor([[1., 1.],\n",
              "        [4., 4.],\n",
              "        [9., 9.]])"
            ]
          },
          "metadata": {},
          "execution_count": 8
        }
      ]
    },
    {
      "cell_type": "code",
      "source": [
        "x = tensor + tensor\n",
        "x"
      ],
      "metadata": {
        "colab": {
          "base_uri": "https://localhost:8080/"
        },
        "id": "3Xc_7RPaz8On",
        "outputId": "47adf68a-d58f-4246-aaa0-2d026595aaa7"
      },
      "execution_count": null,
      "outputs": [
        {
          "output_type": "execute_result",
          "data": {
            "text/plain": [
              "tensor([[2., 2.],\n",
              "        [4., 4.],\n",
              "        [6., 6.]])"
            ]
          },
          "metadata": {},
          "execution_count": 10
        }
      ]
    },
    {
      "cell_type": "code",
      "source": [
        "print(tensor)\n",
        "tensor.add_(5)\n",
        "print('-'*20)\n",
        "print(tensor)"
      ],
      "metadata": {
        "colab": {
          "base_uri": "https://localhost:8080/"
        },
        "id": "37LD8LEH0DLt",
        "outputId": "1a9070ab-19ae-4c57-e0e1-af08731d2b22"
      },
      "execution_count": null,
      "outputs": [
        {
          "output_type": "stream",
          "name": "stdout",
          "text": [
            "tensor([[1., 1.],\n",
            "        [2., 2.],\n",
            "        [3., 3.]])\n",
            "--------------------\n",
            "tensor([[6., 6.],\n",
            "        [7., 7.],\n",
            "        [8., 8.]])\n"
          ]
        }
      ]
    },
    {
      "cell_type": "code",
      "source": [
        "w = torch.rand(5,4)\n",
        "w"
      ],
      "metadata": {
        "colab": {
          "base_uri": "https://localhost:8080/"
        },
        "id": "qP61OncP0RGd",
        "outputId": "8261d954-4166-4600-dd8b-10acbf4c46cd"
      },
      "execution_count": null,
      "outputs": [
        {
          "output_type": "execute_result",
          "data": {
            "text/plain": [
              "tensor([[0.7824, 0.6740, 0.1472, 0.6912],\n",
              "        [0.0054, 0.7094, 0.5867, 0.3453],\n",
              "        [0.1500, 0.9962, 0.3950, 0.0012],\n",
              "        [0.7187, 0.6127, 0.5640, 0.6510],\n",
              "        [0.9715, 0.7024, 0.4977, 0.6380]])"
            ]
          },
          "metadata": {},
          "execution_count": 12
        }
      ]
    },
    {
      "cell_type": "code",
      "source": [
        "w.view(4,5)\n"
      ],
      "metadata": {
        "colab": {
          "base_uri": "https://localhost:8080/"
        },
        "id": "l_ZN7FSU0UIV",
        "outputId": "ea1d5b3a-5f18-4251-8c14-b346e4d01ca5"
      },
      "execution_count": null,
      "outputs": [
        {
          "output_type": "execute_result",
          "data": {
            "text/plain": [
              "tensor([[0.7824, 0.6740, 0.1472, 0.6912, 0.0054],\n",
              "        [0.7094, 0.5867, 0.3453, 0.1500, 0.9962],\n",
              "        [0.3950, 0.0012, 0.7187, 0.6127, 0.5640],\n",
              "        [0.6510, 0.9715, 0.7024, 0.4977, 0.6380]])"
            ]
          },
          "metadata": {},
          "execution_count": 13
        }
      ]
    },
    {
      "cell_type": "code",
      "source": [
        "w.view(10,2)"
      ],
      "metadata": {
        "colab": {
          "base_uri": "https://localhost:8080/"
        },
        "id": "g48Ri_mW0YxF",
        "outputId": "e6c96868-b080-4d96-a010-6b80ee594a4d"
      },
      "execution_count": null,
      "outputs": [
        {
          "output_type": "execute_result",
          "data": {
            "text/plain": [
              "tensor([[0.7824, 0.6740],\n",
              "        [0.1472, 0.6912],\n",
              "        [0.0054, 0.7094],\n",
              "        [0.5867, 0.3453],\n",
              "        [0.1500, 0.9962],\n",
              "        [0.3950, 0.0012],\n",
              "        [0.7187, 0.6127],\n",
              "        [0.5640, 0.6510],\n",
              "        [0.9715, 0.7024],\n",
              "        [0.4977, 0.6380]])"
            ]
          },
          "metadata": {},
          "execution_count": 14
        }
      ]
    }
  ]
}