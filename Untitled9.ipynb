{
  "nbformat": 4,
  "nbformat_minor": 0,
  "metadata": {
    "colab": {
      "provenance": [],
      "authorship_tag": "ABX9TyNKrIP3DwARvAXuCvyAYZ2S",
      "include_colab_link": true
    },
    "kernelspec": {
      "name": "python3",
      "display_name": "Python 3"
    },
    "language_info": {
      "name": "python"
    }
  },
  "cells": [
    {
      "cell_type": "markdown",
      "metadata": {
        "id": "view-in-github",
        "colab_type": "text"
      },
      "source": [
        "<a href=\"https://colab.research.google.com/github/ebiram63/Pytorch_course/blob/main/Untitled9.ipynb\" target=\"_parent\"><img src=\"https://colab.research.google.com/assets/colab-badge.svg\" alt=\"Open In Colab\"/></a>"
      ]
    },
    {
      "cell_type": "code",
      "execution_count": 1,
      "metadata": {
        "id": "_8Dh_C_PKwtB"
      },
      "outputs": [],
      "source": [
        "#Tensors\n"
      ]
    },
    {
      "cell_type": "code",
      "source": [
        "import torch"
      ],
      "metadata": {
        "id": "6tRqSy8sLWV7"
      },
      "execution_count": 4,
      "outputs": []
    },
    {
      "cell_type": "code",
      "source": [
        "data = [[1,2], [3,4], [5,6]]\n",
        "data"
      ],
      "metadata": {
        "colab": {
          "base_uri": "https://localhost:8080/"
        },
        "id": "nMLI0p_oK6TY",
        "outputId": "38ec7b5a-e6cf-4ff0-955e-c9b97c49bf23"
      },
      "execution_count": 5,
      "outputs": [
        {
          "output_type": "execute_result",
          "data": {
            "text/plain": [
              "[[1, 2], [3, 4], [5, 6]]"
            ]
          },
          "metadata": {},
          "execution_count": 5
        }
      ]
    },
    {
      "cell_type": "code",
      "source": [
        "torch.tensor(data)"
      ],
      "metadata": {
        "colab": {
          "base_uri": "https://localhost:8080/"
        },
        "id": "EtRYnPN5LQvV",
        "outputId": "5d2e0f17-1137-4a81-cda9-aff0d655274a"
      },
      "execution_count": 6,
      "outputs": [
        {
          "output_type": "execute_result",
          "data": {
            "text/plain": [
              "tensor([[1, 2],\n",
              "        [3, 4],\n",
              "        [5, 6]])"
            ]
          },
          "metadata": {},
          "execution_count": 6
        }
      ]
    },
    {
      "cell_type": "code",
      "source": [
        "#making a list by numpy"
      ],
      "metadata": {
        "id": "fVArBKuyLmWR"
      },
      "execution_count": null,
      "outputs": []
    },
    {
      "cell_type": "code",
      "source": [
        "import numpy as np\n",
        "np_array = np.array(data)\n",
        "np_array"
      ],
      "metadata": {
        "colab": {
          "base_uri": "https://localhost:8080/"
        },
        "id": "q6sU8Z97Ls1l",
        "outputId": "dd0088fa-a594-44ee-ca76-945586596574"
      },
      "execution_count": 7,
      "outputs": [
        {
          "output_type": "execute_result",
          "data": {
            "text/plain": [
              "array([[1, 2],\n",
              "       [3, 4],\n",
              "       [5, 6]])"
            ]
          },
          "metadata": {},
          "execution_count": 7
        }
      ]
    },
    {
      "cell_type": "code",
      "source": [
        "torch.from_numpy(np_array)"
      ],
      "metadata": {
        "colab": {
          "base_uri": "https://localhost:8080/"
        },
        "id": "ev9Uk67aL8cr",
        "outputId": "25ba239e-5c28-41ef-9108-0a3fd0b12729"
      },
      "execution_count": 8,
      "outputs": [
        {
          "output_type": "execute_result",
          "data": {
            "text/plain": [
              "tensor([[1, 2],\n",
              "        [3, 4],\n",
              "        [5, 6]])"
            ]
          },
          "metadata": {},
          "execution_count": 8
        }
      ]
    },
    {
      "cell_type": "code",
      "source": [
        "x = torch.zeros(3,3,5, dtype=torch.float16)\n",
        "print(x, x.dtype)"
      ],
      "metadata": {
        "colab": {
          "base_uri": "https://localhost:8080/"
        },
        "id": "0bEQOnUjMJBo",
        "outputId": "a626ce82-3e42-4d58-a4da-a464fe2fe914"
      },
      "execution_count": 10,
      "outputs": [
        {
          "output_type": "stream",
          "name": "stdout",
          "text": [
            "tensor([[[0., 0., 0., 0., 0.],\n",
            "         [0., 0., 0., 0., 0.],\n",
            "         [0., 0., 0., 0., 0.]],\n",
            "\n",
            "        [[0., 0., 0., 0., 0.],\n",
            "         [0., 0., 0., 0., 0.],\n",
            "         [0., 0., 0., 0., 0.]],\n",
            "\n",
            "        [[0., 0., 0., 0., 0.],\n",
            "         [0., 0., 0., 0., 0.],\n",
            "         [0., 0., 0., 0., 0.]]], dtype=torch.float16) torch.float16\n"
          ]
        }
      ]
    },
    {
      "cell_type": "code",
      "source": [
        "x = torch.ones(3,3,5)\n",
        "print(x, x.dtype)"
      ],
      "metadata": {
        "colab": {
          "base_uri": "https://localhost:8080/"
        },
        "id": "3mrhkEVrM60A",
        "outputId": "0ef72d0f-84be-412c-b4d0-7b7b058857c9"
      },
      "execution_count": 11,
      "outputs": [
        {
          "output_type": "stream",
          "name": "stdout",
          "text": [
            "tensor([[[1., 1., 1., 1., 1.],\n",
            "         [1., 1., 1., 1., 1.],\n",
            "         [1., 1., 1., 1., 1.]],\n",
            "\n",
            "        [[1., 1., 1., 1., 1.],\n",
            "         [1., 1., 1., 1., 1.],\n",
            "         [1., 1., 1., 1., 1.]],\n",
            "\n",
            "        [[1., 1., 1., 1., 1.],\n",
            "         [1., 1., 1., 1., 1.],\n",
            "         [1., 1., 1., 1., 1.]]]) torch.float32\n"
          ]
        }
      ]
    },
    {
      "cell_type": "code",
      "source": [
        "x = torch.rand(3,3,5)\n",
        "print(x, x.dtype)"
      ],
      "metadata": {
        "colab": {
          "base_uri": "https://localhost:8080/"
        },
        "id": "Vn7KTnrsNEYG",
        "outputId": "07f5b238-d076-4cfd-b2a3-18c23d69c73a"
      },
      "execution_count": 12,
      "outputs": [
        {
          "output_type": "stream",
          "name": "stdout",
          "text": [
            "tensor([[[0.7453, 0.5350, 0.5328, 0.6365, 0.1540],\n",
            "         [0.9668, 0.4254, 0.4870, 0.4294, 0.0730],\n",
            "         [0.2120, 0.1323, 0.8468, 0.7136, 0.9508]],\n",
            "\n",
            "        [[0.0494, 0.5502, 0.7054, 0.4321, 0.9691],\n",
            "         [0.6791, 0.9651, 0.5399, 0.4909, 0.2394],\n",
            "         [0.4560, 0.7258, 0.3962, 0.2877, 0.9949]],\n",
            "\n",
            "        [[0.5269, 0.3867, 0.9212, 0.9257, 0.3437],\n",
            "         [0.6397, 0.2855, 0.0860, 0.0643, 0.0848],\n",
            "         [0.8712, 0.0485, 0.8262, 0.3261, 0.0680]]]) torch.float32\n"
          ]
        }
      ]
    },
    {
      "cell_type": "code",
      "source": [
        "x[0]"
      ],
      "metadata": {
        "colab": {
          "base_uri": "https://localhost:8080/"
        },
        "id": "oLlinERINOJA",
        "outputId": "a336b676-a966-41bb-d93a-285f76c6a7f1"
      },
      "execution_count": 13,
      "outputs": [
        {
          "output_type": "execute_result",
          "data": {
            "text/plain": [
              "tensor([[0.7453, 0.5350, 0.5328, 0.6365, 0.1540],\n",
              "        [0.9668, 0.4254, 0.4870, 0.4294, 0.0730],\n",
              "        [0.2120, 0.1323, 0.8468, 0.7136, 0.9508]])"
            ]
          },
          "metadata": {},
          "execution_count": 13
        }
      ]
    },
    {
      "cell_type": "code",
      "source": [
        "x = torch.tensor([1,2,3,4,5])\n",
        "print(x, x.dtype)"
      ],
      "metadata": {
        "colab": {
          "base_uri": "https://localhost:8080/"
        },
        "id": "24EN16K7NWeI",
        "outputId": "3af0e4bf-a986-424d-eace-5941501eebb2"
      },
      "execution_count": 16,
      "outputs": [
        {
          "output_type": "stream",
          "name": "stdout",
          "text": [
            "tensor([1, 2, 3, 4, 5]) torch.int64\n"
          ]
        }
      ]
    },
    {
      "cell_type": "code",
      "source": [
        "y = (2*x)\n",
        "print(y, y.dtype)"
      ],
      "metadata": {
        "colab": {
          "base_uri": "https://localhost:8080/"
        },
        "id": "b5PIMihXNhZl",
        "outputId": "9f2ae980-9ad5-4772-ac0e-22700e130f5f"
      },
      "execution_count": 17,
      "outputs": [
        {
          "output_type": "stream",
          "name": "stdout",
          "text": [
            "tensor([ 2,  4,  6,  8, 10]) torch.int64\n"
          ]
        }
      ]
    },
    {
      "cell_type": "code",
      "source": [
        "((0.0 * x) - y)"
      ],
      "metadata": {
        "colab": {
          "base_uri": "https://localhost:8080/"
        },
        "id": "P3Pi-IgYP1G3",
        "outputId": "c07aa723-3d11-45ef-da61-0daf318a6546"
      },
      "execution_count": 18,
      "outputs": [
        {
          "output_type": "execute_result",
          "data": {
            "text/plain": [
              "tensor([ -2.,  -4.,  -6.,  -8., -10.])"
            ]
          },
          "metadata": {},
          "execution_count": 18
        }
      ]
    },
    {
      "cell_type": "code",
      "source": [
        "((0.0 * x) - y ).dtype"
      ],
      "metadata": {
        "colab": {
          "base_uri": "https://localhost:8080/"
        },
        "id": "Yt_3JyeMP9Hz",
        "outputId": "10ad5104-0249-4f6a-a1d4-1404e5ba435f"
      },
      "execution_count": 19,
      "outputs": [
        {
          "output_type": "execute_result",
          "data": {
            "text/plain": [
              "torch.float32"
            ]
          },
          "metadata": {},
          "execution_count": 19
        }
      ]
    },
    {
      "cell_type": "code",
      "source": [
        "tensor = torch.tensor(data)\n",
        "print(tensor)\n",
        "print(\"-\"*30)\n",
        "print(f\"Shape  : {tensor.shape}\")\n",
        "print(f\"Datatype : {tensor.dtype}\" )\n",
        "print(f\"Device :  {tensor.device}\")"
      ],
      "metadata": {
        "colab": {
          "base_uri": "https://localhost:8080/"
        },
        "id": "oC_51AerQJvS",
        "outputId": "a0f846bd-0841-417d-b254-a838d034c388"
      },
      "execution_count": 28,
      "outputs": [
        {
          "output_type": "stream",
          "name": "stdout",
          "text": [
            "tensor([[1, 2],\n",
            "        [3, 4],\n",
            "        [5, 6]])\n",
            "------------------------------\n",
            "Shape  : torch.Size([3, 2])\n",
            "Datatype : torch.int64\n",
            "Device :  cpu\n"
          ]
        }
      ]
    },
    {
      "cell_type": "code",
      "source": [
        "# We move our tensor to the GPU if available\n",
        "if torch.cuda.is_available():\n",
        "  tensor = tensor.to(\"cuda\")"
      ],
      "metadata": {
        "id": "htpqAxGZQ0ep"
      },
      "execution_count": 31,
      "outputs": []
    },
    {
      "cell_type": "code",
      "source": [
        "print(tensor.device)"
      ],
      "metadata": {
        "colab": {
          "base_uri": "https://localhost:8080/"
        },
        "id": "E3t4WWSCRQbk",
        "outputId": "2d3dbbea-3040-4935-8d50-ac044937fb4d"
      },
      "execution_count": 32,
      "outputs": [
        {
          "output_type": "stream",
          "name": "stdout",
          "text": [
            "cpu\n"
          ]
        }
      ]
    },
    {
      "cell_type": "code",
      "source": [
        "#1- Indexing & Slicing:"
      ],
      "metadata": {
        "id": "5BxrDLNyRZak"
      },
      "execution_count": null,
      "outputs": []
    },
    {
      "cell_type": "code",
      "source": [
        "tensor = torch.rand(4,4)\n",
        "print(tensor)\n"
      ],
      "metadata": {
        "colab": {
          "base_uri": "https://localhost:8080/"
        },
        "id": "X1OYA_lNTDG9",
        "outputId": "8a03c7db-b63e-4640-870a-bc1ddf0cd96b"
      },
      "execution_count": 41,
      "outputs": [
        {
          "output_type": "stream",
          "name": "stdout",
          "text": [
            "tensor([[0.7918, 0.3580, 0.4862, 0.8096],\n",
            "        [0.0094, 0.9975, 0.1444, 0.3850],\n",
            "        [0.0077, 0.1187, 0.8902, 0.6507],\n",
            "        [0.0292, 0.8185, 0.1220, 0.2827]])\n"
          ]
        }
      ]
    },
    {
      "cell_type": "code",
      "source": [
        "print(f\"First row : {tensor[0]}\" )"
      ],
      "metadata": {
        "colab": {
          "base_uri": "https://localhost:8080/"
        },
        "id": "BFvNenOBTLLF",
        "outputId": "ed962dcf-b25d-406b-8450-046c9ca64b58"
      },
      "execution_count": 34,
      "outputs": [
        {
          "output_type": "stream",
          "name": "stdout",
          "text": [
            "First row : tensor([0.0849, 0.3500, 0.4536, 0.6255])\n"
          ]
        }
      ]
    },
    {
      "cell_type": "code",
      "source": [
        "print(f\"First column: {tensor[ : , 0]}\")"
      ],
      "metadata": {
        "colab": {
          "base_uri": "https://localhost:8080/"
        },
        "id": "4sLv4PkOTWuR",
        "outputId": "b94969f0-f7fe-4275-af70-645ef1269c6b"
      },
      "execution_count": 35,
      "outputs": [
        {
          "output_type": "stream",
          "name": "stdout",
          "text": [
            "First column: tensor([0.0849, 0.5608, 0.6948, 0.9260])\n"
          ]
        }
      ]
    },
    {
      "cell_type": "code",
      "source": [
        "print(f\"Last column: {tensor[..., -1]}\")"
      ],
      "metadata": {
        "colab": {
          "base_uri": "https://localhost:8080/"
        },
        "id": "jdWtruniThUa",
        "outputId": "9f025caa-1d0f-48e9-9204-651257319896"
      },
      "execution_count": 36,
      "outputs": [
        {
          "output_type": "stream",
          "name": "stdout",
          "text": [
            "Last column: tensor([0.6255, 0.4824, 0.3657, 0.2290])\n"
          ]
        }
      ]
    },
    {
      "cell_type": "code",
      "source": [
        "tensor[:,0] = 0\n",
        "print(tensor)"
      ],
      "metadata": {
        "colab": {
          "base_uri": "https://localhost:8080/"
        },
        "id": "6JLlW2nmTuts",
        "outputId": "acd0ebd4-7df0-45f3-c605-3aa688238ebe"
      },
      "execution_count": 42,
      "outputs": [
        {
          "output_type": "stream",
          "name": "stdout",
          "text": [
            "tensor([[0.0000, 0.3580, 0.4862, 0.8096],\n",
            "        [0.0000, 0.9975, 0.1444, 0.3850],\n",
            "        [0.0000, 0.1187, 0.8902, 0.6507],\n",
            "        [0.0000, 0.8185, 0.1220, 0.2827]])\n"
          ]
        }
      ]
    },
    {
      "cell_type": "code",
      "source": [
        "#2- Joining tensors\n",
        "#torch.cat torch.stack\n"
      ],
      "metadata": {
        "id": "UoIfSlI0UHNj"
      },
      "execution_count": null,
      "outputs": []
    },
    {
      "cell_type": "code",
      "source": [
        "tensor = torch.tensor([[1,2],[2,2],[3,3]])\n",
        "print(tensor,tensor.shape)"
      ],
      "metadata": {
        "colab": {
          "base_uri": "https://localhost:8080/"
        },
        "id": "XGuViTG7USO7",
        "outputId": "831f8fd0-a597-49de-d2bd-8868abdfe913"
      },
      "execution_count": 43,
      "outputs": [
        {
          "output_type": "stream",
          "name": "stdout",
          "text": [
            "tensor([[1, 2],\n",
            "        [2, 2],\n",
            "        [3, 3]]) torch.Size([3, 2])\n"
          ]
        }
      ]
    },
    {
      "cell_type": "code",
      "source": [
        "t1 = torch.cat([tensor,tensor,tensor], dim=1)\n",
        "print(t1,t1.shape)"
      ],
      "metadata": {
        "colab": {
          "base_uri": "https://localhost:8080/"
        },
        "id": "WX3qY8IRUhKA",
        "outputId": "04f1d610-379c-4bdf-d08e-526cd050c6c6"
      },
      "execution_count": 44,
      "outputs": [
        {
          "output_type": "stream",
          "name": "stdout",
          "text": [
            "tensor([[1, 2, 1, 2, 1, 2],\n",
            "        [2, 2, 2, 2, 2, 2],\n",
            "        [3, 3, 3, 3, 3, 3]]) torch.Size([3, 6])\n"
          ]
        }
      ]
    },
    {
      "cell_type": "code",
      "source": [
        "t1 = torch.cat([tensor,tensor,tensor] , dim=0)\n",
        "print(t1,t1.shape)"
      ],
      "metadata": {
        "colab": {
          "base_uri": "https://localhost:8080/"
        },
        "id": "3GWSmXTcUupo",
        "outputId": "6c6d02a8-acdb-42e4-d00a-c28ca2bd1395"
      },
      "execution_count": 46,
      "outputs": [
        {
          "output_type": "stream",
          "name": "stdout",
          "text": [
            "tensor([[1, 2],\n",
            "        [2, 2],\n",
            "        [3, 3],\n",
            "        [1, 2],\n",
            "        [2, 2],\n",
            "        [3, 3],\n",
            "        [1, 2],\n",
            "        [2, 2],\n",
            "        [3, 3]]) torch.Size([9, 2])\n"
          ]
        }
      ]
    },
    {
      "cell_type": "code",
      "source": [
        "t1 = torch.stack([tensor,tensor,tensor])\n",
        "print(t1,t1.shape)"
      ],
      "metadata": {
        "colab": {
          "base_uri": "https://localhost:8080/"
        },
        "id": "7ibWnvuOVK0O",
        "outputId": "3128c98d-3f56-4cfb-8931-1bda3cc2bb76"
      },
      "execution_count": 47,
      "outputs": [
        {
          "output_type": "stream",
          "name": "stdout",
          "text": [
            "tensor([[[1, 2],\n",
            "         [2, 2],\n",
            "         [3, 3]],\n",
            "\n",
            "        [[1, 2],\n",
            "         [2, 2],\n",
            "         [3, 3]],\n",
            "\n",
            "        [[1, 2],\n",
            "         [2, 2],\n",
            "         [3, 3]]]) torch.Size([3, 3, 2])\n"
          ]
        }
      ]
    },
    {
      "cell_type": "code",
      "source": [
        "#3- Matrix Operations\n",
        "#Transpose of a tensor -----> tensor.T\n",
        "#matrix multiplication -----> tensor.matmul( tensor2 )\n",
        "#matrix multiplication -----> tensor @ tensor2"
      ],
      "metadata": {
        "id": "i4r8csLIVWNw"
      },
      "execution_count": null,
      "outputs": []
    }
  ]
}